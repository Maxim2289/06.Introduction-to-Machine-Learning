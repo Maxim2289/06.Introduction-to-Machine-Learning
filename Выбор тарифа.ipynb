{
 "cells": [
  {
   "cell_type": "markdown",
   "id": "7c4830af",
   "metadata": {},
   "source": [
    "# Рекомендация тарифов"
   ]
  },
  {
   "cell_type": "markdown",
   "id": "cb74a876",
   "metadata": {},
   "source": [
    "В вашем распоряжении данные о поведении клиентов, которые уже перешли на эти тарифы (из проекта курса «Статистический анализ данных»). Нужно построить модель для задачи классификации, которая выберет подходящий тариф. Предобработка данных не понадобится — вы её уже сделали.\n",
    "\n",
    "Постройте модель с максимально большим значением accuracy. Чтобы сдать проект успешно, нужно довести долю правильных ответов по крайней мере до 0.75. Проверьте accuracy на тестовой выборке самостоятельно."
   ]
  },
  {
   "cell_type": "markdown",
   "id": "349668d3",
   "metadata": {},
   "source": [
    "* [1. Откройте и изучите файл](#section_id1)</a>\n",
    "* [2. Разбейте данные на выборки](#section_id2)</a>\n",
    "* [3. Исследуйте модели](#section_id3)</a>\n",
    "* [4. Проверьте модель на тестовой выборке](#section_id4)</a>\n",
    "* [5. Проверьте модели на адекватность](#section_id5)</a>\n",
    "* [Вывод](#section_id7)</a>\n",
    "* [6. Чек-лист готовности проекта](#section_id6)</a>"
   ]
  },
  {
   "cell_type": "markdown",
   "id": "b001f70c",
   "metadata": {},
   "source": [
    "## Откройте и изучите файл\n",
    "<a id='section_id1'></a>"
   ]
  },
  {
   "cell_type": "code",
   "execution_count": 1,
   "id": "c26375c2",
   "metadata": {},
   "outputs": [],
   "source": [
    "import pandas as pd"
   ]
  },
  {
   "cell_type": "code",
   "execution_count": 2,
   "id": "a3668d8e",
   "metadata": {},
   "outputs": [],
   "source": [
    "from sklearn.model_selection import train_test_split\n",
    "\n",
    "from sklearn.tree import DecisionTreeClassifier\n",
    "from sklearn.linear_model import LogisticRegression\n",
    "from sklearn.ensemble import RandomForestClassifier"
   ]
  },
  {
   "cell_type": "code",
   "execution_count": 3,
   "id": "067f7915",
   "metadata": {},
   "outputs": [],
   "source": [
    "df = pd.read_csv('/datasets/users_behavior.csv')"
   ]
  },
  {
   "cell_type": "code",
   "execution_count": 4,
   "id": "85a2eaca",
   "metadata": {},
   "outputs": [
    {
     "data": {
      "text/html": [
       "<div>\n",
       "<style scoped>\n",
       "    .dataframe tbody tr th:only-of-type {\n",
       "        vertical-align: middle;\n",
       "    }\n",
       "\n",
       "    .dataframe tbody tr th {\n",
       "        vertical-align: top;\n",
       "    }\n",
       "\n",
       "    .dataframe thead th {\n",
       "        text-align: right;\n",
       "    }\n",
       "</style>\n",
       "<table border=\"1\" class=\"dataframe\">\n",
       "  <thead>\n",
       "    <tr style=\"text-align: right;\">\n",
       "      <th></th>\n",
       "      <th>calls</th>\n",
       "      <th>minutes</th>\n",
       "      <th>messages</th>\n",
       "      <th>mb_used</th>\n",
       "      <th>is_ultra</th>\n",
       "    </tr>\n",
       "  </thead>\n",
       "  <tbody>\n",
       "    <tr>\n",
       "      <th>0</th>\n",
       "      <td>40.0</td>\n",
       "      <td>311.90</td>\n",
       "      <td>83.0</td>\n",
       "      <td>19915.42</td>\n",
       "      <td>0</td>\n",
       "    </tr>\n",
       "    <tr>\n",
       "      <th>1</th>\n",
       "      <td>85.0</td>\n",
       "      <td>516.75</td>\n",
       "      <td>56.0</td>\n",
       "      <td>22696.96</td>\n",
       "      <td>0</td>\n",
       "    </tr>\n",
       "    <tr>\n",
       "      <th>2</th>\n",
       "      <td>77.0</td>\n",
       "      <td>467.66</td>\n",
       "      <td>86.0</td>\n",
       "      <td>21060.45</td>\n",
       "      <td>0</td>\n",
       "    </tr>\n",
       "    <tr>\n",
       "      <th>3</th>\n",
       "      <td>106.0</td>\n",
       "      <td>745.53</td>\n",
       "      <td>81.0</td>\n",
       "      <td>8437.39</td>\n",
       "      <td>1</td>\n",
       "    </tr>\n",
       "    <tr>\n",
       "      <th>4</th>\n",
       "      <td>66.0</td>\n",
       "      <td>418.74</td>\n",
       "      <td>1.0</td>\n",
       "      <td>14502.75</td>\n",
       "      <td>0</td>\n",
       "    </tr>\n",
       "    <tr>\n",
       "      <th>...</th>\n",
       "      <td>...</td>\n",
       "      <td>...</td>\n",
       "      <td>...</td>\n",
       "      <td>...</td>\n",
       "      <td>...</td>\n",
       "    </tr>\n",
       "    <tr>\n",
       "      <th>3209</th>\n",
       "      <td>122.0</td>\n",
       "      <td>910.98</td>\n",
       "      <td>20.0</td>\n",
       "      <td>35124.90</td>\n",
       "      <td>1</td>\n",
       "    </tr>\n",
       "    <tr>\n",
       "      <th>3210</th>\n",
       "      <td>25.0</td>\n",
       "      <td>190.36</td>\n",
       "      <td>0.0</td>\n",
       "      <td>3275.61</td>\n",
       "      <td>0</td>\n",
       "    </tr>\n",
       "    <tr>\n",
       "      <th>3211</th>\n",
       "      <td>97.0</td>\n",
       "      <td>634.44</td>\n",
       "      <td>70.0</td>\n",
       "      <td>13974.06</td>\n",
       "      <td>0</td>\n",
       "    </tr>\n",
       "    <tr>\n",
       "      <th>3212</th>\n",
       "      <td>64.0</td>\n",
       "      <td>462.32</td>\n",
       "      <td>90.0</td>\n",
       "      <td>31239.78</td>\n",
       "      <td>0</td>\n",
       "    </tr>\n",
       "    <tr>\n",
       "      <th>3213</th>\n",
       "      <td>80.0</td>\n",
       "      <td>566.09</td>\n",
       "      <td>6.0</td>\n",
       "      <td>29480.52</td>\n",
       "      <td>1</td>\n",
       "    </tr>\n",
       "  </tbody>\n",
       "</table>\n",
       "<p>3214 rows × 5 columns</p>\n",
       "</div>"
      ],
      "text/plain": [
       "      calls  minutes  messages   mb_used  is_ultra\n",
       "0      40.0   311.90      83.0  19915.42         0\n",
       "1      85.0   516.75      56.0  22696.96         0\n",
       "2      77.0   467.66      86.0  21060.45         0\n",
       "3     106.0   745.53      81.0   8437.39         1\n",
       "4      66.0   418.74       1.0  14502.75         0\n",
       "...     ...      ...       ...       ...       ...\n",
       "3209  122.0   910.98      20.0  35124.90         1\n",
       "3210   25.0   190.36       0.0   3275.61         0\n",
       "3211   97.0   634.44      70.0  13974.06         0\n",
       "3212   64.0   462.32      90.0  31239.78         0\n",
       "3213   80.0   566.09       6.0  29480.52         1\n",
       "\n",
       "[3214 rows x 5 columns]"
      ]
     },
     "execution_count": 4,
     "metadata": {},
     "output_type": "execute_result"
    }
   ],
   "source": [
    "df"
   ]
  },
  {
   "cell_type": "markdown",
   "id": "2dbce7d1",
   "metadata": {},
   "source": [
    "df\n",
    "Описание данных\n",
    "\n",
    "Каждый объект в наборе данных — это информация о поведении одного пользователя за месяц. Известно:\n",
    "сalls — количество звонков,\n",
    "minutes — суммарная длительность звонков в минутах,\n",
    "messages — количество sms-сообщений,\n",
    "mb_used — израсходованный интернет-трафик в Мб,\n",
    "is_ultra — каким тарифом пользовался в течение месяца («Ультра» — 1, «Смарт» — 0)."
   ]
  },
  {
   "cell_type": "code",
   "execution_count": 5,
   "id": "9451dca1",
   "metadata": {},
   "outputs": [
    {
     "name": "stdout",
     "output_type": "stream",
     "text": [
      "<class 'pandas.core.frame.DataFrame'>\n",
      "RangeIndex: 3214 entries, 0 to 3213\n",
      "Data columns (total 5 columns):\n",
      " #   Column    Non-Null Count  Dtype  \n",
      "---  ------    --------------  -----  \n",
      " 0   calls     3214 non-null   float64\n",
      " 1   minutes   3214 non-null   float64\n",
      " 2   messages  3214 non-null   float64\n",
      " 3   mb_used   3214 non-null   float64\n",
      " 4   is_ultra  3214 non-null   int64  \n",
      "dtypes: float64(4), int64(1)\n",
      "memory usage: 125.7 KB\n"
     ]
    }
   ],
   "source": [
    "df.info()"
   ]
  },
  {
   "cell_type": "markdown",
   "id": "835e4566",
   "metadata": {},
   "source": [
    "Резюме.\n",
    "\n",
    "Мы открыли и изучили код. Предобработку даннфых делатьнебудем поскольку в задании сказано, что этого ненадо."
   ]
  },
  {
   "cell_type": "markdown",
   "id": "c7db673d",
   "metadata": {},
   "source": [
    "## Разбейте данные на выборки\n",
    "<a id='section_id2'></a>"
   ]
  },
  {
   "cell_type": "code",
   "execution_count": 6,
   "id": "12b1549d",
   "metadata": {},
   "outputs": [],
   "source": [
    "# Сначала разделим на валидационную и обучающую выборку.\n",
    "# отделим 40% данных для валидационной выборки\n",
    "df_train, df_valid = train_test_split(df, test_size=0.4, random_state=12345)\n",
    "# извлекаем признаки \n",
    "features = df_valid.drop('is_ultra', axis=1) # извлекаем признаки \n",
    "target = df_valid['is_ultra']# извлекаем целевой признак"
   ]
  },
  {
   "cell_type": "code",
   "execution_count": 7,
   "id": "e487cf3d",
   "metadata": {},
   "outputs": [],
   "source": [
    "# Теперь отделим 50% данных от валидационной выборки\n",
    "features_test, features_valid, target_test, target_valid = train_test_split(\n",
    "    features, target, test_size=0.5, random_state=12345)\n",
    "features_train = df_train.drop('is_ultra', axis=1)\n",
    "target_train = df_train['is_ultra']"
   ]
  },
  {
   "cell_type": "markdown",
   "id": "ab67b86a",
   "metadata": {},
   "source": [
    "Резюме.\n",
    "\n",
    "Разбили данные сначала на две части в 40% и 60%. После 40% еще пополам."
   ]
  },
  {
   "cell_type": "code",
   "execution_count": 8,
   "id": "32ca3cdf",
   "metadata": {},
   "outputs": [
    {
     "name": "stdout",
     "output_type": "stream",
     "text": [
      "1928\n",
      "5\n"
     ]
    }
   ],
   "source": [
    "print(df_train.shape[0]) # количество строк\n",
    "print(df_train.shape[1]) # количество столбцов"
   ]
  },
  {
   "cell_type": "code",
   "execution_count": 9,
   "id": "f36a2e25",
   "metadata": {},
   "outputs": [
    {
     "data": {
      "text/plain": [
       "(1286, 5)"
      ]
     },
     "execution_count": 9,
     "metadata": {},
     "output_type": "execute_result"
    }
   ],
   "source": [
    "df_valid.shape # первое число количество строк, второе количество столбцов"
   ]
  },
  {
   "cell_type": "markdown",
   "id": "56ece0db",
   "metadata": {},
   "source": [
    "## Исследуйте модели\n",
    "<a id='section_id3'></a>"
   ]
  },
  {
   "cell_type": "markdown",
   "id": "8c6dba81",
   "metadata": {},
   "source": [
    "Логистическая регрессия"
   ]
  },
  {
   "cell_type": "code",
   "execution_count": 10,
   "id": "77cf6964",
   "metadata": {},
   "outputs": [
    {
     "name": "stdout",
     "output_type": "stream",
     "text": [
      "Accuracy лучшей моделий логистической регрессии: 0.6842923794712286\n"
     ]
    }
   ],
   "source": [
    "# Обучите модель вызовом метода fit().\n",
    "model = LogisticRegression(random_state=12345, solver='lbfgs', max_iter=100)\n",
    "model.fit(features_train, target_train)\n",
    "\n",
    "# Чтобы посмотреть accuracy модели, нужно вызвать функцию .score():\n",
    "accuracy = model.score(features_valid, target_valid)\n",
    "print(\"Accuracy лучшей моделий логистической регрессии:\", accuracy)\n",
    "# Алгоритм 'lbfgs' — один из самых распространённых. Он подходит для большинства задач.\n",
    "# Гиперпараметром max_iter задаётся максимальное количество итераций обучения. Значение этого параметра по умолчанию равно 100."
   ]
  },
  {
   "cell_type": "markdown",
   "id": "911c8ddb",
   "metadata": {},
   "source": [
    "Модель решающего дерева"
   ]
  },
  {
   "cell_type": "code",
   "execution_count": 11,
   "id": "acc911b5",
   "metadata": {},
   "outputs": [
    {
     "name": "stdout",
     "output_type": "stream",
     "text": [
      "Accuracy лучшей модели решающего дерева: 0.7838258164852255\n"
     ]
    }
   ],
   "source": [
    "est_tree_model = None\n",
    "best_tree_result = 0\n",
    "for depth in range(1, 7):\n",
    "    model_tree = DecisionTreeClassifier(random_state=12345, max_depth=depth) # обучили модель с заданной глубиной дерева\n",
    "    model_tree.fit(features_train, target_train) # обучили модель\n",
    "\n",
    "    result_tree = model_tree.score(features_valid, target_valid) # посчитали качество модели\n",
    "    if result_tree > best_tree_result:\n",
    "        best_tree_model = model_tree\n",
    "        best_tree_result = result_tree\n",
    "        \n",
    "print(\"Accuracy лучшей модели решающего дерева:\", best_tree_result)"
   ]
  },
  {
   "cell_type": "markdown",
   "id": "29ffa42c",
   "metadata": {},
   "source": [
    "Случайный лес"
   ]
  },
  {
   "cell_type": "code",
   "execution_count": 12,
   "id": "c58a4b15",
   "metadata": {},
   "outputs": [
    {
     "name": "stdout",
     "output_type": "stream",
     "text": [
      "Accuracy наилучшей модели на валидационных данных: 0.8055987558320373\n"
     ]
    }
   ],
   "source": [
    "best_model = None\n",
    "best_result = 0\n",
    "for est in range(1, 11):\n",
    "    model = RandomForestClassifier(max_depth=depth, random_state=12345, n_estimators=est, min_samples_leaf=4) # обучите модель с заданным количеством деревьев\n",
    "    model.fit(features_train,target_train) # обучите модель на тренировочной выборке\n",
    "    result = model.score(features_valid, target_valid) # посчитали качество модели на валидационной выборке\n",
    "    if result > best_result:\n",
    "        best_model = model# сохранили наилучшую модель\n",
    "        best_result = result#  сохранили наилучшее значение метрики accuracy на валидационных данных\n",
    "print(\"Accuracy наилучшей модели на валидационных данных:\", best_result)   "
   ]
  },
  {
   "cell_type": "markdown",
   "id": "5274350e",
   "metadata": {},
   "source": [
    "Резюме.\n",
    "\n",
    "Наилучшей модель с максимально большим значением accuracy оказался случайный лес со значением 0.805. Модель решающего дерева 0.783, а логистическая регрессия показала самый низкий результат в 0.684."
   ]
  },
  {
   "cell_type": "markdown",
   "id": "ecf423b5",
   "metadata": {},
   "source": [
    "## Проверьте модель на тестовой выборке\n",
    "<a id='section_id4'></a>"
   ]
  },
  {
   "cell_type": "markdown",
   "id": "b977f818",
   "metadata": {},
   "source": [
    "Логистическая регрессия"
   ]
  },
  {
   "cell_type": "code",
   "execution_count": 13,
   "id": "b49949a1",
   "metadata": {},
   "outputs": [
    {
     "name": "stdout",
     "output_type": "stream",
     "text": [
      "Accuracy лучшей моделий логистической регрессии: 0.7107309486780715\n"
     ]
    }
   ],
   "source": [
    "# Обучите модель вызовом метода fit().\n",
    "model = LogisticRegression(random_state=12345, solver='lbfgs', max_iter=100)\n",
    "model.fit(features_train, target_train)\n",
    "\n",
    "# Чтобы посмотреть accuracy модели, нужно вызвать функцию .score():\n",
    "accuracy = model.score(features_test, target_test)\n",
    "print(\"Accuracy лучшей моделий логистической регрессии:\", accuracy)"
   ]
  },
  {
   "cell_type": "markdown",
   "id": "59e707ef",
   "metadata": {},
   "source": [
    "Решающее дерево"
   ]
  },
  {
   "cell_type": "code",
   "execution_count": 14,
   "id": "3f3209d0",
   "metadata": {},
   "outputs": [
    {
     "name": "stdout",
     "output_type": "stream",
     "text": [
      "Accuracy лучшей модели решающего дерева: 0.7791601866251944\n"
     ]
    }
   ],
   "source": [
    "model_tree = DecisionTreeClassifier(random_state=12345, max_depth=8) # обучите модель с заданной глубиной дерева\n",
    "model_tree.fit(features_train, target_train) # обучите модель\n",
    "result_tree = model_tree.score(features_test, target_test) # посчитали качество модели на тестовой выборке\n",
    "print(\"Accuracy лучшей модели решающего дерева:\", result_tree)  "
   ]
  },
  {
   "cell_type": "markdown",
   "id": "2b413690",
   "metadata": {},
   "source": [
    "Случайный лес"
   ]
  },
  {
   "cell_type": "code",
   "execution_count": 15,
   "id": "1c43acd6",
   "metadata": {},
   "outputs": [
    {
     "name": "stdout",
     "output_type": "stream",
     "text": [
      "Accuracy наилучшей модели на тестовых данных: 0.8087091757387247\n"
     ]
    }
   ],
   "source": [
    "model = RandomForestClassifier(max_depth=8, random_state=12345, n_estimators=40, min_samples_leaf=1) # обучите модель с заданным количеством деревьев\n",
    "model.fit(features_train,target_train) # обучите модель на тренировочной выборке\n",
    "result = model.score(features_test, target_test) # посчитали качество модели на тестовой выборке\n",
    "print(\"Accuracy наилучшей модели на тестовых данных:\", result) "
   ]
  },
  {
   "cell_type": "markdown",
   "id": "cc0a7138",
   "metadata": {},
   "source": [
    "Резюме.\n",
    "\n",
    "Были проверены модели на тестовой выборки. Результаты получились похожие"
   ]
  },
  {
   "cell_type": "markdown",
   "id": "7076b444",
   "metadata": {},
   "source": [
    "# Вывод\n",
    "<a id='section_id7'></a>"
   ]
  },
  {
   "cell_type": "markdown",
   "id": "663a64d2",
   "metadata": {},
   "source": [
    "Были открыты и изучен файл. После разбили данные на выборки. Вначале на две в 40% и 60%. После 40% еще раз разбили попалам. Были проверены три модели: логистическая регрессия, решающее дерево, случайный лес. Лучший результат показал случайный лес (0.79), худшуу логическая регресия (0.68). Была проверена модель на тестовой выборке. Наилучшее качество (0.8087) достигается при использовании случайного леса с гиперпараметрами max_depth=7, n_estimators=40, min_samples_leaf=1."
   ]
  }
 ],
 "metadata": {
  "ExecuteTimeLog": [
   {
    "duration": 390,
    "start_time": "2023-08-30T16:30:26.294Z"
   },
   {
    "duration": 72,
    "start_time": "2023-08-30T16:34:33.247Z"
   },
   {
    "duration": 438,
    "start_time": "2023-08-30T16:40:28.246Z"
   },
   {
    "duration": 758,
    "start_time": "2023-08-30T16:40:28.686Z"
   },
   {
    "duration": 113,
    "start_time": "2023-08-30T16:40:29.446Z"
   },
   {
    "duration": 23,
    "start_time": "2023-08-30T16:40:29.561Z"
   },
   {
    "duration": 13,
    "start_time": "2023-08-30T16:40:29.586Z"
   },
   {
    "duration": 70,
    "start_time": "2023-08-30T16:40:29.601Z"
   },
   {
    "duration": 0,
    "start_time": "2023-08-30T16:40:29.672Z"
   },
   {
    "duration": 0,
    "start_time": "2023-08-30T16:40:29.674Z"
   },
   {
    "duration": 1,
    "start_time": "2023-08-30T16:40:29.675Z"
   },
   {
    "duration": 0,
    "start_time": "2023-08-30T16:40:29.677Z"
   },
   {
    "duration": 0,
    "start_time": "2023-08-30T16:40:29.678Z"
   },
   {
    "duration": 0,
    "start_time": "2023-08-30T16:40:29.678Z"
   },
   {
    "duration": 0,
    "start_time": "2023-08-30T16:40:29.680Z"
   },
   {
    "duration": 420,
    "start_time": "2023-08-30T16:40:46.753Z"
   },
   {
    "duration": 969,
    "start_time": "2023-08-30T16:40:47.175Z"
   },
   {
    "duration": 30,
    "start_time": "2023-08-30T16:40:48.146Z"
   },
   {
    "duration": 20,
    "start_time": "2023-08-30T16:40:48.178Z"
   },
   {
    "duration": 12,
    "start_time": "2023-08-30T16:40:48.199Z"
   },
   {
    "duration": 8,
    "start_time": "2023-08-30T16:40:48.213Z"
   },
   {
    "duration": 8,
    "start_time": "2023-08-30T16:40:48.222Z"
   },
   {
    "duration": 16,
    "start_time": "2023-08-30T16:40:48.231Z"
   },
   {
    "duration": 10,
    "start_time": "2023-08-30T16:40:48.249Z"
   },
   {
    "duration": 38,
    "start_time": "2023-08-30T16:40:48.261Z"
   },
   {
    "duration": 50,
    "start_time": "2023-08-30T16:40:48.301Z"
   },
   {
    "duration": 204,
    "start_time": "2023-08-30T16:40:48.353Z"
   },
   {
    "duration": 421,
    "start_time": "2023-08-30T16:43:19.557Z"
   },
   {
    "duration": 735,
    "start_time": "2023-08-30T16:43:19.980Z"
   },
   {
    "duration": 30,
    "start_time": "2023-08-30T16:43:20.717Z"
   },
   {
    "duration": 21,
    "start_time": "2023-08-30T16:43:20.749Z"
   },
   {
    "duration": 12,
    "start_time": "2023-08-30T16:43:20.772Z"
   },
   {
    "duration": 20,
    "start_time": "2023-08-30T16:43:20.785Z"
   },
   {
    "duration": 13,
    "start_time": "2023-08-30T16:43:20.807Z"
   },
   {
    "duration": 4,
    "start_time": "2023-08-30T16:43:20.822Z"
   },
   {
    "duration": 16,
    "start_time": "2023-08-30T16:43:20.828Z"
   },
   {
    "duration": 34,
    "start_time": "2023-08-30T16:43:20.846Z"
   },
   {
    "duration": 39,
    "start_time": "2023-08-30T16:43:20.882Z"
   },
   {
    "duration": 212,
    "start_time": "2023-08-30T16:43:20.922Z"
   },
   {
    "duration": 34,
    "start_time": "2023-08-30T16:43:21.135Z"
   },
   {
    "duration": 14,
    "start_time": "2023-08-30T16:43:21.170Z"
   },
   {
    "duration": 148,
    "start_time": "2023-08-30T16:43:21.185Z"
   }
  ],
  "kernelspec": {
   "display_name": "Python 3 (ipykernel)",
   "language": "python",
   "name": "python3"
  },
  "language_info": {
   "codemirror_mode": {
    "name": "ipython",
    "version": 3
   },
   "file_extension": ".py",
   "mimetype": "text/x-python",
   "name": "python",
   "nbconvert_exporter": "python",
   "pygments_lexer": "ipython3",
   "version": "3.9.5"
  },
  "toc": {
   "base_numbering": 1,
   "nav_menu": {},
   "number_sections": true,
   "sideBar": true,
   "skip_h1_title": true,
   "title_cell": "Table of Contents",
   "title_sidebar": "Contents",
   "toc_cell": false,
   "toc_position": {},
   "toc_section_display": true,
   "toc_window_display": false
  }
 },
 "nbformat": 4,
 "nbformat_minor": 5
}
